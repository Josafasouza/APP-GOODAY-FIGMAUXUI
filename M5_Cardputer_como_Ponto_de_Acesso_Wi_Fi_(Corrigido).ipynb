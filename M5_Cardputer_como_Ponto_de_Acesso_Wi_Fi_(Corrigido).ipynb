{
  "cells": [
    {
      "cell_type": "markdown",
      "metadata": {
        "id": "view-in-github",
        "colab_type": "text"
      },
      "source": [
        "<a href=\"https://colab.research.google.com/github/Josafasouza/APP-GOODAY-FIGMAUXUI/blob/main/M5_Cardputer_como_Ponto_de_Acesso_Wi_Fi_(Corrigido).ipynb\" target=\"_parent\"><img src=\"https://colab.research.google.com/assets/colab-badge.svg\" alt=\"Open In Colab\"/></a>"
      ]
    },
    {
      "cell_type": "code",
      "source": [
        "import network\n",
        "import socket\n",
        "import time\n",
        "import _thread\n",
        "\n",
        "# Configurações da rede Wi-Fi que o Cardputer irá criar\n",
        "AP_SSID = \"M5CardputerAP\"\n",
        "AP_PASSWORD = \"sua_senha\"  # Troque por uma senha segura\n",
        "AP_IP = \"192.168.4.1\"\n",
        "AP_SUBNET = \"255.255.255.0\"\n",
        "AP_GATEWAY = \"192.168.4.1\" # Gateway padrão para o Access Point\n",
        "\n",
        "# Lista para armazenar informações dos clientes conectados\n",
        "connected_clients = []\n",
        "\n",
        "# Função para lidar com cada cliente conectado em uma thread separada\n",
        "def handle_client(client_socket, client_address):\n",
        "    print(f\"Cliente conectado: {client_address}\")\n",
        "    connected_clients.append({\"ip\": client_address[0], \"socket\": client_socket})\n",
        "    try:\n",
        "        while True:\n",
        "            data = client_socket.recv(1024)\n",
        "            if not data:\n",
        "                break  # Cliente se desconectou\n",
        "            print(f\"Dados recebidos de {client_address}: {data.decode('utf-8')}\")\n",
        "            response = \"Mensagem recebida do M5Cardputer!\"\n",
        "            client_socket.send(response.encode('utf-8'))\n",
        "    except Exception as e:\n",
        "        print(f\"Erro na comunicação com {client_address}: {e}\")\n",
        "    finally:\n",
        "        client_socket.close()\n",
        "        print(f\"Conexão com {client_address} encerrada.\")\n",
        "        # Remove o cliente da lista usando o socket para garantir a remoção correta\n",
        "        for client in connected_clients:\n",
        "            if client[\"socket\"] == client_socket:\n",
        "                connected_clients.remove(client)\n",
        "                break\n",
        "\n",
        "# Função para iniciar o ponto de acesso Wi-Fi\n",
        "def start_access_point():\n",
        "    try:\n",
        "        ap = network.WLAN(network.AP_IF)\n",
        "        ap.active(True)\n",
        "        ap.config(essid=AP_SSID, password=AP_PASSWORD, authmode=network.AUTH_WPA_WPA2_PSK,\n",
        "                  ip=AP_IP, subnet=AP_SUBNET, gateway=AP_GATEWAY) # Configura o Gateway\n",
        "        print(f\"Ponto de acesso Wi-Fi criado com SSID: {AP_SSID}, IP: {AP_IP}\")\n",
        "\n",
        "        # Cria um socket para ouvir conexões de clientes\n",
        "        server_socket = socket.socket(socket.AF_INET, socket.SOCK_STREAM)\n",
        "        server_socket.bind(('0.0.0.0', 80))  # Usa a porta 80 para comunicação HTTP (exemplo)\n",
        "        server_socket.listen(5)  # Permite até 5 conexões simultâneas na fila\n",
        "        print(\"Aguardando conexões de clientes...\")\n",
        "\n",
        "        # Loop principal para aceitar novas conexões de clientes\n",
        "        while True:\n",
        "            client_socket, client_address = server_socket.accept()\n",
        "            # Inicia uma nova thread para lidar com a comunicação com o cliente\n",
        "            _thread.start_new_thread(handle_client, (client_socket, client_address))\n",
        "    except Exception as e:\n",
        "        print(f\"Erro ao iniciar o ponto de acesso: {e}\")\n",
        "        print(\"Verifique se o MicroPython está instalado corretamente e se a placa suporta o modo AP.\")\n",
        "        print(\"O programa será encerrado.\")\n",
        "        return  # Encerra a função em caso de erro\n",
        "\n",
        "# Função principal do script\n",
        "if __name__ == \"__main__\":\n",
        "    start_access_point() # Inicia o ponto de acesso\n",
        "    while True:\n",
        "        time.sleep(5)\n",
        "        # Imprime informações sobre os clientes conectados a cada 5 segundos\n",
        "        print(\"Clientes Conectados:\")\n",
        "        if not connected_clients:\n",
        "            print(\"Nenhum cliente conectado.\")\n",
        "        else:\n",
        "            for client in connected_clients:\n",
        "                print(f\"  IP: {client['ip']}\")"
      ],
      "outputs": [
        {
          "output_type": "error",
          "ename": "ModuleNotFoundError",
          "evalue": "No module named 'network'",
          "traceback": [
            "\u001b[0;31m---------------------------------------------------------------------------\u001b[0m",
            "\u001b[0;31mModuleNotFoundError\u001b[0m                       Traceback (most recent call last)",
            "\u001b[0;32m<ipython-input-1-66268950cbf8>\u001b[0m in \u001b[0;36m<cell line: 0>\u001b[0;34m()\u001b[0m\n\u001b[0;32m----> 1\u001b[0;31m \u001b[0;32mimport\u001b[0m \u001b[0mnetwork\u001b[0m\u001b[0;34m\u001b[0m\u001b[0;34m\u001b[0m\u001b[0m\n\u001b[0m\u001b[1;32m      2\u001b[0m \u001b[0;32mimport\u001b[0m \u001b[0msocket\u001b[0m\u001b[0;34m\u001b[0m\u001b[0;34m\u001b[0m\u001b[0m\n\u001b[1;32m      3\u001b[0m \u001b[0;32mimport\u001b[0m \u001b[0mtime\u001b[0m\u001b[0;34m\u001b[0m\u001b[0;34m\u001b[0m\u001b[0m\n\u001b[1;32m      4\u001b[0m \u001b[0;32mimport\u001b[0m \u001b[0m_thread\u001b[0m\u001b[0;34m\u001b[0m\u001b[0;34m\u001b[0m\u001b[0m\n\u001b[1;32m      5\u001b[0m \u001b[0;34m\u001b[0m\u001b[0m\n",
            "\u001b[0;31mModuleNotFoundError\u001b[0m: No module named 'network'",
            "",
            "\u001b[0;31m---------------------------------------------------------------------------\u001b[0;32m\nNOTE: If your import is failing due to a missing package, you can\nmanually install dependencies using either !pip or !apt.\n\nTo view examples of installing some common dependencies, click the\n\"Open Examples\" button below.\n\u001b[0;31m---------------------------------------------------------------------------\u001b[0m\n"
          ],
          "errorDetails": {
            "actions": [
              {
                "action": "open_url",
                "actionText": "Open Examples",
                "url": "/notebooks/snippets/importing_libraries.ipynb"
              }
            ]
          }
        }
      ],
      "execution_count": 1,
      "metadata": {
        "colab": {
          "base_uri": "https://localhost:8080/",
          "height": 384
        },
        "id": "LppEjJo3OaP9",
        "outputId": "e1be034b-97a7-48ef-a997-153dff51a6dd"
      }
    }
  ],
  "metadata": {
    "colab": {
      "provenance": [],
      "include_colab_link": true
    },
    "kernelspec": {
      "display_name": "Python 3",
      "name": "python3"
    }
  },
  "nbformat": 4,
  "nbformat_minor": 0
}